{
 "cells": [
  {
   "cell_type": "code",
   "execution_count": 1,
   "id": "850382e7",
   "metadata": {},
   "outputs": [],
   "source": [
    "from transformers import AutoModelForSeq2SeqLM, AutoTokenizer\n",
    "from datasets import load_dataset, load_metric\n",
    "from torch.utils.data import DataLoader\n",
    "from torch.optim import AdamW\n",
    "from tqdm.auto import tqdm\n",
    "import numpy as np\n",
    "import torch\n",
    "from torch import tensor"
   ]
  },
  {
   "cell_type": "code",
   "execution_count": 84,
   "id": "24c943cd",
   "metadata": {},
   "outputs": [],
   "source": [
    "tokenizer = AutoTokenizer.from_pretrained(\"t5-small\")\n",
    "model = AutoModelForSeq2SeqLM.from_pretrained(\"finetuned-t5-small/\")"
   ]
  },
  {
   "cell_type": "code",
   "execution_count": 66,
   "id": "d64927b2",
   "metadata": {},
   "outputs": [],
   "source": [
    "tokenizer = AutoTokenizer.from_pretrained(\"t5-small\")\n",
    "model = AutoModelForSeq2SeqLM.from_pretrained(\"t5-small\")"
   ]
  },
  {
   "cell_type": "code",
   "execution_count": 85,
   "id": "10604793",
   "metadata": {},
   "outputs": [],
   "source": [
    "device = torch.device(\"cuda\") if torch.cuda.is_available() else torch.device(\"cpu\")\n",
    "model = model.to(device)"
   ]
  },
  {
   "cell_type": "code",
   "execution_count": 86,
   "id": "c0a079e7",
   "metadata": {},
   "outputs": [
    {
     "name": "stderr",
     "output_type": "stream",
     "text": [
      "Found cached dataset csv (/home/chitt/.cache/huggingface/datasets/csv/default-a0080fde1903ed6a/0.0.0/6954658bab30a358235fa864b05cf819af0e179325c740e4bc853bcc7ec513e1)\n"
     ]
    },
    {
     "data": {
      "application/vnd.jupyter.widget-view+json": {
       "model_id": "53676919b42a46f29c7f72f4a15da869",
       "version_major": 2,
       "version_minor": 0
      },
      "text/plain": [
       "  0%|          | 0/1 [00:00<?, ?it/s]"
      ]
     },
     "metadata": {},
     "output_type": "display_data"
    }
   ],
   "source": [
    "dataset = load_dataset(\"csv\", data_files=\"reddit.csv\")"
   ]
  },
  {
   "cell_type": "code",
   "execution_count": 87,
   "id": "aedf5462",
   "metadata": {},
   "outputs": [],
   "source": [
    "def tokenize_function(example):\n",
    "    example[\"text\"] = \"question: what is a witty response to this?\\n context: \" + example[\"text\"]\n",
    "    text_tokenized = tokenizer(example[\"text\"], padding=\"max_length\", truncation=True)\n",
    "    label_tokenized = tokenizer(example[\"comment_text\"], padding=\"max_length\", truncation=True)\n",
    "    example[\"text_input_ids\"] = text_tokenized[\"input_ids\"]\n",
    "    example[\"label_input_ids\"] = label_tokenized[\"input_ids\"]\n",
    "    example[\"text_attention\"] = text_tokenized[\"attention_mask\"]\n",
    "    example[\"label_attention\"] = label_tokenized[\"attention_mask\"]\n",
    "    return example"
   ]
  },
  {
   "cell_type": "code",
   "execution_count": 88,
   "id": "a924a3b2",
   "metadata": {},
   "outputs": [
    {
     "name": "stderr",
     "output_type": "stream",
     "text": [
      "Loading cached processed dataset at /home/chitt/.cache/huggingface/datasets/csv/default-a0080fde1903ed6a/0.0.0/6954658bab30a358235fa864b05cf819af0e179325c740e4bc853bcc7ec513e1/cache-400bf7dcfada5c38.arrow\n"
     ]
    }
   ],
   "source": [
    "dataset = (\n",
    "    dataset.map(tokenize_function)\n",
    "    .remove_columns(\n",
    "        [\"submission_text\", \"Unnamed: 0\", \"submission_ids\", \"permalinks\", \"comment_scores\", \"comment_ids\", \"titles\", \"comment_text\"]\n",
    "    )\n",
    ")"
   ]
  },
  {
   "cell_type": "code",
   "execution_count": 90,
   "id": "a472bbde",
   "metadata": {},
   "outputs": [],
   "source": [
    "optimizer = AdamW(model.parameters(), lr=5e-5)"
   ]
  },
  {
   "cell_type": "code",
   "execution_count": 91,
   "id": "f36363db",
   "metadata": {},
   "outputs": [],
   "source": [
    "training_data = []\n",
    "# [\n",
    "#     (\n",
    "#         [], # input ids\n",
    "#         [], # output ids\n",
    "#         [] # attention mask\n",
    "#     ),\n",
    "#     (\n",
    "#         [],\n",
    "#         [],\n",
    "#         []\n",
    "#     ),\n",
    "# ]"
   ]
  },
  {
   "cell_type": "code",
   "execution_count": 92,
   "id": "25b42ef6",
   "metadata": {},
   "outputs": [],
   "source": [
    "for row in dataset[\"train\"]:\n",
    "    training_data.append((np.array(row[\"text_input_ids\"]), np.array(row[\"label_input_ids\"]), np.array(row[\"text_attention\"])))"
   ]
  },
  {
   "cell_type": "code",
   "execution_count": 93,
   "id": "6914edfb",
   "metadata": {},
   "outputs": [],
   "source": [
    "dataloader = DataLoader(training_data, batch_size=16, shuffle=True)"
   ]
  },
  {
   "cell_type": "code",
   "execution_count": null,
   "id": "a334132b",
   "metadata": {
    "scrolled": true
   },
   "outputs": [],
   "source": []
  },
  {
   "cell_type": "code",
   "execution_count": 44,
   "id": "c978c90d",
   "metadata": {},
   "outputs": [],
   "source": [
    "NUM_EPOCHS = 15"
   ]
  },
  {
   "cell_type": "code",
   "execution_count": 45,
   "id": "d0efd011",
   "metadata": {},
   "outputs": [
    {
     "data": {
      "application/vnd.jupyter.widget-view+json": {
       "model_id": "977f9966d346440e83dfa64462943f1b",
       "version_major": 2,
       "version_minor": 0
      },
      "text/plain": [
       "  0%|          | 0/2700 [00:00<?, ?it/s]"
      ]
     },
     "metadata": {},
     "output_type": "display_data"
    }
   ],
   "source": [
    "progress_bar = tqdm(range(NUM_EPOCHS * len(dataloader)))"
   ]
  },
  {
   "cell_type": "code",
   "execution_count": 47,
   "id": "07d2cace",
   "metadata": {},
   "outputs": [],
   "source": [
    "losses = []"
   ]
  },
  {
   "cell_type": "code",
   "execution_count": 48,
   "id": "f6c49b43",
   "metadata": {
    "scrolled": true
   },
   "outputs": [],
   "source": [
    "for epoch in range(NUM_EPOCHS):\n",
    "    for step, data in enumerate(dataloader):\n",
    "        input_ids, labels, attention_mask = data\n",
    "\n",
    "        input_ids = input_ids.to(device)\n",
    "        labels = labels.to(device)\n",
    "        attention_mask = attention_mask.to(device)\n",
    "        labels[labels == tokenizer.pad_token_id] = -100\n",
    "        outputs = model(input_ids=input_ids, attention_mask=attention_mask, labels=labels)\n",
    "        loss = outputs.loss\n",
    "        loss.backward()\n",
    "        optimizer.step()\n",
    "        optimizer.zero_grad()\n",
    "        progress_bar.update(1)\n",
    "        if step % 50 == 0:\n",
    "            losses.append(loss.item())"
   ]
  },
  {
   "cell_type": "code",
   "execution_count": 18,
   "id": "0242df9b",
   "metadata": {},
   "outputs": [],
   "source": [
    "import seaborn as sns"
   ]
  },
  {
   "cell_type": "code",
   "execution_count": 49,
   "id": "f9d09406",
   "metadata": {},
   "outputs": [
    {
     "data": {
      "text/plain": [
       "[4.894783973693848,\n",
       " 4.17950963973999,\n",
       " 3.8936142921447754,\n",
       " 4.06517219543457,\n",
       " 4.014336585998535,\n",
       " 3.815605401992798,\n",
       " 4.131828308105469,\n",
       " 3.9849753379821777,\n",
       " 3.760429620742798,\n",
       " 3.652771472930908,\n",
       " 3.8316166400909424,\n",
       " 4.003565788269043,\n",
       " 3.7257955074310303,\n",
       " 3.577575445175171,\n",
       " 3.8174893856048584,\n",
       " 3.8849945068359375,\n",
       " 3.99342679977417,\n",
       " 3.682290554046631,\n",
       " 3.558255910873413,\n",
       " 3.623375654220581,\n",
       " 3.799905300140381,\n",
       " 3.599071741104126,\n",
       " 3.5838863849639893,\n",
       " 3.839076280593872,\n",
       " 3.3127026557922363,\n",
       " 3.6893532276153564,\n",
       " 3.4850220680236816,\n",
       " 3.5323147773742676,\n",
       " 3.414323568344116,\n",
       " 3.624444007873535,\n",
       " 3.3875515460968018,\n",
       " 3.574082136154175,\n",
       " 3.798501968383789,\n",
       " 3.2442307472229004,\n",
       " 3.5524706840515137,\n",
       " 3.438345432281494,\n",
       " 3.251373291015625,\n",
       " 3.2367312908172607,\n",
       " 3.311723232269287,\n",
       " 3.328652858734131,\n",
       " 3.4704232215881348,\n",
       " 3.2058095932006836,\n",
       " 3.0407259464263916,\n",
       " 3.462094783782959,\n",
       " 3.1554388999938965,\n",
       " 3.1535708904266357,\n",
       " 2.9790048599243164,\n",
       " 3.279646873474121,\n",
       " 3.19683837890625,\n",
       " 2.7603328227996826,\n",
       " 2.918851375579834,\n",
       " 2.840480089187622,\n",
       " 2.8660695552825928,\n",
       " 3.1079630851745605,\n",
       " 3.0466158390045166,\n",
       " 3.0639336109161377,\n",
       " 2.359185218811035,\n",
       " 3.1328365802764893,\n",
       " 2.8712174892425537,\n",
       " 2.779913902282715]"
      ]
     },
     "execution_count": 49,
     "metadata": {},
     "output_type": "execute_result"
    }
   ],
   "source": [
    "losses"
   ]
  },
  {
   "cell_type": "code",
   "execution_count": 50,
   "id": "f37f8ab8",
   "metadata": {},
   "outputs": [],
   "source": [
    "sns.set(rc={'figure.figsize':(18.7,4.27)})"
   ]
  },
  {
   "cell_type": "code",
   "execution_count": 51,
   "id": "71d96290",
   "metadata": {},
   "outputs": [
    {
     "data": {
      "text/plain": [
       "<AxesSubplot:>"
      ]
     },
     "execution_count": 51,
     "metadata": {},
     "output_type": "execute_result"
    },
    {
     "data": {
      "image/png": "[encoded data removed]",
      "text/plain": [
       "<Figure size 1346.4x307.44 with 1 Axes>"
      ]
     },
     "metadata": {},
     "output_type": "display_data"
    }
   ],
   "source": [
    "sns.pointplot(x=list(range(len(losses))), y=losses)"
   ]
  },
  {
   "cell_type": "code",
   "execution_count": 52,
   "id": "3363dd38",
   "metadata": {},
   "outputs": [],
   "source": [
    "inputs = tokenizer(\n",
    "    \"\"\"question: what is a witty response to this?\n",
    "    context: I sold my Kia Soul and bought a guitar and amp. I guess you can say I sold my soul for rock n roll…\n",
    "    \"\"\", \n",
    "    padding=\"max_length\", \n",
    "    truncation=True,\n",
    "    return_tensors=\"pt\"\n",
    ").to(device)"
   ]
  },
  {
   "cell_type": "code",
   "execution_count": 53,
   "id": "cdf0b29e",
   "metadata": {},
   "outputs": [
    {
     "data": {
      "text/plain": [
       "tensor([[   0,   27,   31,   51,    3,    9, 2480,    3,   29, 3812, 1819,   11,\n",
       "            3,    9, 5507, 1819,    5,    1]], device='cuda:0')"
      ]
     },
     "execution_count": 53,
     "metadata": {},
     "output_type": "execute_result"
    }
   ],
   "source": [
    "outputs = model.generate(**inputs, temperature=0.99, max_new_tokens=1000)\n",
    "outputs"
   ]
  },
  {
   "cell_type": "code",
   "execution_count": 54,
   "id": "53d51f66",
   "metadata": {},
   "outputs": [
    {
     "data": {
      "text/plain": [
       "[\"I'm a rock n roll fan and a guitar fan.\"]"
      ]
     },
     "execution_count": 54,
     "metadata": {},
     "output_type": "execute_result"
    }
   ],
   "source": [
    "tokenizer.batch_decode(outputs, skip_special_tokens=True)"
   ]
  },
  {
   "cell_type": "code",
   "execution_count": 62,
   "id": "18e7564c",
   "metadata": {
    "scrolled": false
   },
   "outputs": [],
   "source": [
    "model.save_pretrained(\"finetuned-t5-small/\")"
   ]
  },
  {
   "cell_type": "code",
   "execution_count": 94,
   "id": "251a94d4",
   "metadata": {},
   "outputs": [
    {
     "name": "stderr",
     "output_type": "stream",
     "text": [
      "Token indices sequence length is longer than the specified maximum sequence length for this model (520 > 512). Running this sequence through the model will result in indexing errors\n"
     ]
    }
   ],
   "source": [
    "perplexities = []\n",
    "for _, example in test_dataset.iterrows():\n",
    "    input_ids = tokenizer.encode(example['Input'], return_tensors='pt').to(device)\n",
    "    output_ids = tokenizer.encode(example['Output'], return_tensors='pt').to(device)\n",
    "    \n",
    "    with torch.no_grad():\n",
    "        logits = model(input_ids=input_ids, labels=output_ids).logits\n",
    "    loss = torch.nn.CrossEntropyLoss()(logits.view(-1, logits.shape[-1]), output_ids.view(-1))\n",
    "    perplexity = torch.exp(loss)\n",
    "    perplexities.append(perplexity.item())"
   ]
  },
  {
   "cell_type": "code",
   "execution_count": 95,
   "id": "daed42e3",
   "metadata": {},
   "outputs": [
    {
     "name": "stderr",
     "output_type": "stream",
     "text": [
      "*c* argument looks like a single numeric RGB or RGBA sequence, which should be avoided as value-mapping will have precedence in case its length matches with *x* & *y*.  Please use the *color* keyword-argument or provide a 2D array with a single row if you intend to specify the same RGB or RGBA value for all points.\n"
     ]
    },
    {
     "data": {
      "text/plain": [
       "<AxesSubplot:xlabel='index', ylabel='0'>"
      ]
     },
     "execution_count": 95,
     "metadata": {},
     "output_type": "execute_result"
    },
    {
     "data": {
      "image/png": "[encoded data removed]",
      "text/plain": [
       "<Figure size 1346.4x307.44 with 1 Axes>"
      ]
     },
     "metadata": {},
     "output_type": "display_data"
    }
   ],
   "source": [
    "p.reset_index().plot(x=\"index\", y=0, kind=\"scatter\")"
   ]
  },
  {
   "cell_type": "code",
   "execution_count": 83,
   "id": "426b4b20",
   "metadata": {},
   "outputs": [
    {
     "data": {
      "text/plain": [
       "count    3.360000e+02\n",
       "mean     1.304775e+04\n",
       "std      2.069102e+05\n",
       "min      4.475823e+00\n",
       "25%      6.268125e+01\n",
       "50%      1.046538e+02\n",
       "75%      2.496999e+02\n",
       "max      3.789025e+06\n",
       "dtype: float64"
      ]
     },
     "execution_count": 83,
     "metadata": {},
     "output_type": "execute_result"
    }
   ],
   "source": [
    "p.describe()"
   ]
  },
  {
   "cell_type": "code",
   "execution_count": 74,
   "id": "433f8987",
   "metadata": {},
   "outputs": [
    {
     "data": {
      "text/plain": [
       "13047.753787245068"
      ]
     },
     "execution_count": 74,
     "metadata": {},
     "output_type": "execute_result"
    }
   ],
   "source": [
    "np.mean(perplexities)"
   ]
  },
  {
   "cell_type": "code",
   "execution_count": 58,
   "id": "e5cf7cf5",
   "metadata": {},
   "outputs": [
    {
     "data": {
      "text/html": [
       "<div>\n",
       "<style scoped>\n",
       "    .dataframe tbody tr th:only-of-type {\n",
       "        vertical-align: middle;\n",
       "    }\n",
       "\n",
       "    .dataframe tbody tr th {\n",
       "        vertical-align: top;\n",
       "    }\n",
       "\n",
       "    .dataframe thead th {\n",
       "        text-align: right;\n",
       "    }\n",
       "</style>\n",
       "<table border=\"1\" class=\"dataframe\">\n",
       "  <thead>\n",
       "    <tr style=\"text-align: right;\">\n",
       "      <th></th>\n",
       "      <th>Input</th>\n",
       "      <th>Output</th>\n",
       "    </tr>\n",
       "  </thead>\n",
       "  <tbody>\n",
       "    <tr>\n",
       "      <th>0</th>\n",
       "      <td>I saw a dwarf climbing down a prison wall\\nIt ...</td>\n",
       "      <td>\"Figured out he was also a psychic...now he i...</td>\n",
       "    </tr>\n",
       "    <tr>\n",
       "      <th>1</th>\n",
       "      <td>After the Titanic completely rusts away there ...</td>\n",
       "      <td>Everyone knows that the Titanic was sunk to d...</td>\n",
       "    </tr>\n",
       "    <tr>\n",
       "      <th>2</th>\n",
       "      <td>TIFU / My (20F) girlfriend of two years told m...</td>\n",
       "      <td>This man's literally fucked his girl to robot...</td>\n",
       "    </tr>\n",
       "    <tr>\n",
       "      <th>3</th>\n",
       "      <td>Q: What's the secret to telling a good postman...</td>\n",
       "      <td>This joke never works on sundays.</td>\n",
       "    </tr>\n",
       "    <tr>\n",
       "      <th>4</th>\n",
       "      <td>Menstruation jokes are not funny and will not ...</td>\n",
       "      <td>I swear this joke comes around every month...</td>\n",
       "    </tr>\n",
       "    <tr>\n",
       "      <th>5</th>\n",
       "      <td>My kids refuse to eat leftover tacos for dinne...</td>\n",
       "      <td>And now they are nacho kids</td>\n",
       "    </tr>\n",
       "  </tbody>\n",
       "</table>\n",
       "</div>"
      ],
      "text/plain": [
       "                                               Input  \\\n",
       "0  I saw a dwarf climbing down a prison wall\\nIt ...   \n",
       "1  After the Titanic completely rusts away there ...   \n",
       "2  TIFU / My (20F) girlfriend of two years told m...   \n",
       "3  Q: What's the secret to telling a good postman...   \n",
       "4  Menstruation jokes are not funny and will not ...   \n",
       "5  My kids refuse to eat leftover tacos for dinne...   \n",
       "\n",
       "                                              Output  \n",
       "0   \"Figured out he was also a psychic...now he i...  \n",
       "1   Everyone knows that the Titanic was sunk to d...  \n",
       "2   This man's literally fucked his girl to robot...  \n",
       "3                  This joke never works on sundays.  \n",
       "4      I swear this joke comes around every month...  \n",
       "5                        And now they are nacho kids  "
      ]
     },
     "execution_count": 58,
     "metadata": {},
     "output_type": "execute_result"
    }
   ],
   "source": [
    "test_dataset"
   ]
  },
  {
   "cell_type": "code",
   "execution_count": null,
   "id": "bd5c58e6",
   "metadata": {},
   "outputs": [],
   "source": []
  }
 ],
 "metadata": {
  "kernelspec": {
   "display_name": "Python 3 (ipykernel)",
   "language": "python",
   "name": "python3"
  },
  "language_info": {
   "codemirror_mode": {
    "name": "ipython",
    "version": 3
   },
   "file_extension": ".py",
   "mimetype": "text/x-python",
   "name": "python",
   "nbconvert_exporter": "python",
   "pygments_lexer": "ipython3",
   "version": "3.9.7"
  }
 },
 "nbformat": 4,
 "nbformat_minor": 5
}
