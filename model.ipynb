{
 "cells": [
  {
   "cell_type": "code",
   "execution_count": 162,
   "metadata": {},
   "outputs": [],
   "source": [
    "import pandas as pd"
   ]
  },
  {
   "cell_type": "code",
   "execution_count": 183,
   "metadata": {},
   "outputs": [],
   "source": [
    "df = pd.read_csv(\"reddit.csv\", index_col=0).dropna()"
   ]
  },
  {
   "cell_type": "code",
   "execution_count": 184,
   "metadata": {},
   "outputs": [
    {
     "data": {
      "text/html": [
       "<div>\n",
       "<style scoped>\n",
       "    .dataframe tbody tr th:only-of-type {\n",
       "        vertical-align: middle;\n",
       "    }\n",
       "\n",
       "    .dataframe tbody tr th {\n",
       "        vertical-align: top;\n",
       "    }\n",
       "\n",
       "    .dataframe thead th {\n",
       "        text-align: right;\n",
       "    }\n",
       "</style>\n",
       "<table border=\"1\" class=\"dataframe\">\n",
       "  <thead>\n",
       "    <tr style=\"text-align: right;\">\n",
       "      <th></th>\n",
       "      <th>submission_ids</th>\n",
       "      <th>submission_text</th>\n",
       "      <th>titles</th>\n",
       "      <th>permalinks</th>\n",
       "      <th>comment_scores</th>\n",
       "      <th>comment_ids</th>\n",
       "      <th>comment_text</th>\n",
       "    </tr>\n",
       "  </thead>\n",
       "  <tbody>\n",
       "    <tr>\n",
       "      <th>0</th>\n",
       "      <td>aonp75</td>\n",
       "      <td>Damn... this got big...</td>\n",
       "      <td>Whoever created the tradition of not seeing th...</td>\n",
       "      <td>/r/Showerthoughts/comments/aonp75/whoever_crea...</td>\n",
       "      <td>[[...], [...], [...], [...], [...], [...], [.....</td>\n",
       "      <td>['eg2gvmq', 'eg2b8xw', 'eg2gknq', 'eg2iiup', '...</td>\n",
       "      <td>['I read that this tradition exists because in...</td>\n",
       "    </tr>\n",
       "    <tr>\n",
       "      <th>1</th>\n",
       "      <td>x35iu6</td>\n",
       "      <td>\\nA little back story; when I first started ha...</td>\n",
       "      <td>TIFU / My (20F) girlfriend of two years told m...</td>\n",
       "      <td>/r/tifu/comments/x35iu6/tifu_my_20f_girlfriend...</td>\n",
       "      <td>[[...], [...], [...], [...], [...], [...], [.....</td>\n",
       "      <td>['imnkanx', 'imp6ykf', 'imnmr8z', 'imnk65b', '...</td>\n",
       "      <td>[\"no way can someone be this clueless. \\n\\nno ...</td>\n",
       "    </tr>\n",
       "    <tr>\n",
       "      <th>3</th>\n",
       "      <td>a99fw9</td>\n",
       "      <td>Earlier this year, AncestryDNA had a sale on t...</td>\n",
       "      <td>TIFU by buying everyone an AncestryDNA kit and...</td>\n",
       "      <td>/r/tifu/comments/a99fw9/tifu_by_buying_everyon...</td>\n",
       "      <td>[[...], [...], [...], [...], [...], [...], [.....</td>\n",
       "      <td>['eciaw2o', 'echu973', 'echopf3', 'echpvxi', '...</td>\n",
       "      <td>['Feliz Not-Your-Dad', '3.1k comments. \\n\\nMy ...</td>\n",
       "    </tr>\n",
       "    <tr>\n",
       "      <th>6</th>\n",
       "      <td>f6lii3</td>\n",
       "      <td>RIP Larry Tesler, the UI designer that created...</td>\n",
       "      <td>Sad News: The founder of /r/jokes has passed away</td>\n",
       "      <td>/r/Jokes/comments/f6lii3/sad_news_the_founder_...</td>\n",
       "      <td>[[...], [...], [...], [...], [...], [...], [.....</td>\n",
       "      <td>['fi5p62f', 'fi5uz77', 'fi5hyrv', 'fi5oxia', '...</td>\n",
       "      <td>[\"For my next essay for school, I'll dedicate ...</td>\n",
       "    </tr>\n",
       "    <tr>\n",
       "      <th>8</th>\n",
       "      <td>ak2k64</td>\n",
       "      <td>The overhead fan in our bedroom uses one of th...</td>\n",
       "      <td>TIFU by living in a dark bedroom for 6 years.</td>\n",
       "      <td>/r/tifu/comments/ak2k64/tifu_by_living_in_a_da...</td>\n",
       "      <td>[[...], [...], [...], [...], [...], [...], [.....</td>\n",
       "      <td>['ef14259', 'ef0zlm1', 'ef0yxxl', 'ef10iww', '...</td>\n",
       "      <td>['I sat at my dining room table under a very d...</td>\n",
       "    </tr>\n",
       "  </tbody>\n",
       "</table>\n",
       "</div>"
      ],
      "text/plain": [
       "  submission_ids                                    submission_text  \\\n",
       "0         aonp75                            Damn... this got big...   \n",
       "1         x35iu6  \\nA little back story; when I first started ha...   \n",
       "3         a99fw9  Earlier this year, AncestryDNA had a sale on t...   \n",
       "6         f6lii3  RIP Larry Tesler, the UI designer that created...   \n",
       "8         ak2k64  The overhead fan in our bedroom uses one of th...   \n",
       "\n",
       "                                              titles  \\\n",
       "0  Whoever created the tradition of not seeing th...   \n",
       "1  TIFU / My (20F) girlfriend of two years told m...   \n",
       "3  TIFU by buying everyone an AncestryDNA kit and...   \n",
       "6  Sad News: The founder of /r/jokes has passed away   \n",
       "8      TIFU by living in a dark bedroom for 6 years.   \n",
       "\n",
       "                                          permalinks  \\\n",
       "0  /r/Showerthoughts/comments/aonp75/whoever_crea...   \n",
       "1  /r/tifu/comments/x35iu6/tifu_my_20f_girlfriend...   \n",
       "3  /r/tifu/comments/a99fw9/tifu_by_buying_everyon...   \n",
       "6  /r/Jokes/comments/f6lii3/sad_news_the_founder_...   \n",
       "8  /r/tifu/comments/ak2k64/tifu_by_living_in_a_da...   \n",
       "\n",
       "                                      comment_scores  \\\n",
       "0  [[...], [...], [...], [...], [...], [...], [.....   \n",
       "1  [[...], [...], [...], [...], [...], [...], [.....   \n",
       "3  [[...], [...], [...], [...], [...], [...], [.....   \n",
       "6  [[...], [...], [...], [...], [...], [...], [.....   \n",
       "8  [[...], [...], [...], [...], [...], [...], [.....   \n",
       "\n",
       "                                         comment_ids  \\\n",
       "0  ['eg2gvmq', 'eg2b8xw', 'eg2gknq', 'eg2iiup', '...   \n",
       "1  ['imnkanx', 'imp6ykf', 'imnmr8z', 'imnk65b', '...   \n",
       "3  ['eciaw2o', 'echu973', 'echopf3', 'echpvxi', '...   \n",
       "6  ['fi5p62f', 'fi5uz77', 'fi5hyrv', 'fi5oxia', '...   \n",
       "8  ['ef14259', 'ef0zlm1', 'ef0yxxl', 'ef10iww', '...   \n",
       "\n",
       "                                        comment_text  \n",
       "0  ['I read that this tradition exists because in...  \n",
       "1  [\"no way can someone be this clueless. \\n\\nno ...  \n",
       "3  ['Feliz Not-Your-Dad', '3.1k comments. \\n\\nMy ...  \n",
       "6  [\"For my next essay for school, I'll dedicate ...  \n",
       "8  ['I sat at my dining room table under a very d...  "
      ]
     },
     "execution_count": 184,
     "metadata": {},
     "output_type": "execute_result"
    }
   ],
   "source": [
    "df.head()"
   ]
  },
  {
   "cell_type": "code",
   "execution_count": 185,
   "metadata": {},
   "outputs": [],
   "source": [
    "df.comment_text = df.comment_text.apply(eval)\n",
    "df.comment_text = df.comment_text.apply(lambda comments: list(map(lambda comment: \"<START>\" + comment + \"<STOP>\", comments)))\n",
    "df.comment_text = df.comment_text.apply(lambda comments: \"\".join(comments))\n",
    "comment_corpus = \"\".join(list(df.comment_text))\n",
    "print(comment_corpus, file=open(\"comment_corpus\", \"w\"))"
   ]
  }
 ],
 "metadata": {
  "kernelspec": {
   "display_name": "si630",
   "language": "python",
   "name": "python3"
  },
  "language_info": {
   "codemirror_mode": {
    "name": "ipython",
    "version": 3
   },
   "file_extension": ".py",
   "mimetype": "text/x-python",
   "name": "python",
   "nbconvert_exporter": "python",
   "pygments_lexer": "ipython3",
   "version": "3.8.16"
  },
  "orig_nbformat": 4,
  "vscode": {
   "interpreter": {
    "hash": "d6fadc4492c80576ac5e25fd9aba939ed1ecf13a43f47caf3481ee76a15af035"
   }
  }
 },
 "nbformat": 4,
 "nbformat_minor": 2
}
